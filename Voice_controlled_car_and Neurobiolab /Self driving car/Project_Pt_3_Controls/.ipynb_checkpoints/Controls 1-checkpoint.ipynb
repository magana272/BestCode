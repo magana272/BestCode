{
 "cells": [
  {
   "cell_type": "markdown",
   "metadata": {},
   "source": [
    "# SIXT33N Phase 2: Controls | Part 1: Open-Loop Control\n",
    "## EE16B: Designing Information Devices and Systems II, Spring 2019\n"
   ]
  },
  {
   "cell_type": "markdown",
   "metadata": {},
   "source": [
    "# Table of Contents\n",
    "\n",
    "* [Part 0: Powering Your MSP On the Go](#part0)\n",
    "* [Part 1.0: Intro to Open-Loop Control](#part1.0)\n",
    "* [Part 1.1: Open-Loop Controller Design](#part1.1)\n",
    "* [Part 1.2: Open-Loop Simulation](#part1.2)\n",
    "* [Part 1.3: Jolt Calculation](#part1.3)\n",
    "* [Part 1.4: Implementation and Checkoff](#part1.4)\n",
    "\n",
    "-----"
   ]
  },
  {
   "cell_type": "markdown",
   "metadata": {},
   "source": [
    "<a id='part0'></a>\n",
    "# <span style=\"color:blue\">Part 0: Powering the MSP</span>"
   ]
  },
  {
   "cell_type": "markdown",
   "metadata": {},
   "source": [
    "Powering the MSP by both the 5V from the voltage regulator and the USB can increase the odds of MSP frying. To avoid this, you're going to connect the 5V ouput of the voltage regulator to the 5V pin of the MSP via a 22 ohm resistor. This schematic is illustrated below: \n",
    "<img style=\"width:700px\" src=\"images/VoltageRegulatorCircuit.png\">\n",
    "Despite this modification, always avoid simulataneously powering the MSP by the above circuit and the USB. Only use one source at a time. \n",
    "\n",
    "-----"
   ]
  },
  {
   "cell_type": "markdown",
   "metadata": {},
   "source": [
    "<a id='part1.0'></a>\n",
    "# <span style=\"color:blue\">Part 1: Open Loop Control</span>"
   ]
  },
  {
   "cell_type": "markdown",
   "metadata": {},
   "source": [
    "## 1.0 Introduction\n",
    "\n",
    "\n",
    "### <a href=\"https://drive.google.com/file/d/1LTFDFRN8_X0wspUhJYu4yWnY81fdnR3M/view?usp=sharing\">Read the Introduction of the note to familiarize yourself with/remind yourself of the open-loop model.</a>\n",
    "Last time you modeled the open-loop system, collected data, and determined the unknown parameters of your car.\n",
    "\n",
    "This week, you'll implement the open-loop and closed-loop systems. By the end of the phase, you should be able to control the trajectory of the car. We will return to turning later in the project. **Remember to document all design choices you made and explain them in the project report.**\n",
    "\n",
    "The goals of this phase are as follows:\n",
    "- Controller design\n",
    "- Closed loop simulation\n",
    "- Move at constant speed + direction\n",
    "\n",
    "### <span style=\"color:red\">**Fill in your model parameters and target velocty from System ID below.**</span>"
   ]
  },
  {
   "cell_type": "code",
   "execution_count": null,
   "metadata": {
    "scrolled": false
   },
   "outputs": [],
   "source": [
    "import numpy as np\n",
    "import matplotlib.pyplot as plt\n",
    "import utils\n",
    "%matplotlib inline"
   ]
  },
  {
   "cell_type": "code",
   "execution_count": null,
   "metadata": {
    "scrolled": false
   },
   "outputs": [],
   "source": [
    "# YOUR PARAMETERS HERE\n",
    "theta_left = ...;\n",
    "theta_right = ...;\n",
    "beta_left = ...;\n",
    "beta_right = ...;\n",
    "v_star = ...;\n",
    "\n",
    "simulator = utils.Simulator(theta_left, theta_right, beta_left, beta_right)"
   ]
  },
  {
   "cell_type": "code",
   "execution_count": null,
   "metadata": {
    "scrolled": false
   },
   "outputs": [],
   "source": [
    "params = np.array([(theta_left, theta_right),\n",
    "                   (beta_left, beta_right)])\n",
    "d0 = (0,  0)\n",
    "sim_length = 10 # sim length\n",
    "mismatch_error = 0.1 # 10% model mismatch"
   ]
  },
  {
   "cell_type": "markdown",
   "metadata": {},
   "source": [
    "<a id='part1.1'></a>\n",
    "## 1.1 Open Loop Controller Design\n",
    "\n",
    "### <a href=\"https://drive.google.com/file/d/1LTFDFRN8_X0wspUhJYu4yWnY81fdnR3M/view?usp=sharing\">Read Part 1 of the note before you proceed. Boxed questions make good checkoff questions ;)</a>\n",
    "\n",
    "Now design an open loop controller that uses the desired wheel velocity, `v_star`, to set the input `u` to an appropriate value for the pulse width modulation (PWM). To do this, solve your model from the previous part for the input $u[k]$ that makes the model velocity $d[k+1] - d[k]$ equal to the desired velocity $v^*$."
   ]
  },
  {
   "cell_type": "code",
   "execution_count": null,
   "metadata": {
    "scrolled": false
   },
   "outputs": [],
   "source": [
    "# DESIGN YOUR OPEN-LOOP CONTROL HERE\n",
    "def drive_straight_left_ol(v_star):\n",
    "    \"\"\"Returns the open loop input 'u' for the left wheel\"\"\"\n",
    "    # YOUR CODE HERE\n",
    "    return ...\n",
    "\n",
    "def driveStraight_right_ol(v_star):\n",
    "    \"\"\"Returns the open loop input 'u' for the right wheel\"\"\"\n",
    "    # YOUR CODE HERE\n",
    "    return ..."
   ]
  },
  {
   "cell_type": "markdown",
   "metadata": {},
   "source": [
    "<a id='part1.2'></a>\n",
    "## 1.2 Open Loop Simulation\n",
    "\n",
    "### <a href=\"https://drive.google.com/file/d/1LTFDFRN8_X0wspUhJYu4yWnY81fdnR3M/view?usp=sharing\">If you haven't yet, read Part 2 of the note.</a>\n",
    "\n",
    "Now, let's do a quick simulation to check the behavior of the car based on our functions above. In these simulations, we apply maximum PWM for a short time as we do in the real car to \"jolt\" the motors from a stop.\n",
    "\n",
    "**Important:** As long as $\\delta$ is constant, even if $\\delta\\neq 0$, the car still travels straight! Traveling straight means the *velocities*, not the positions, of the wheels are the same. It may just travel straight in a different direction than the original heading. Lets call the steady state (final) value $\\delta_{ss}$.\n",
    "\n",
    "In the left two plots, we assume the physical system perfectly matches our model. On the right, we assume the physical system is 10% different from our model."
   ]
  },
  {
   "cell_type": "code",
   "execution_count": null,
   "metadata": {
    "scrolled": false
   },
   "outputs": [],
   "source": [
    "titles = [\"Open-loop control with perfect model\",\n",
    "          \"Open-loop control with model mismatch\"]\n",
    "_ = utils.two_sims(titles, simulator, v_star, drive_straight_left_ol, driveStraight_right_ol)"
   ]
  },
  {
   "cell_type": "markdown",
   "metadata": {},
   "source": [
    "From the above plots, we can see that the open-loop car travels straight only with a perfect model."
   ]
  },
  {
   "cell_type": "markdown",
   "metadata": {},
   "source": [
    "<a id='part1.3'></a>\n",
    "## 1.3 Jolt Calculation\n",
    "\n",
    "### <a href=\"https://drive.google.com/file/d/1LTFDFRN8_X0wspUhJYu4yWnY81fdnR3M/view?usp=sharing\">Before you proceed, read Part 3 of the note.</a>\n",
    "\n",
    "We find the jolts below by calculating the inputs that result in the minimum of the maximum velocities of both wheels. \n",
    "\n",
    "- **Make sure your `data_coarse.txt` file from System ID is in the same directory as the iPython notebook.**\n",
    "- Run the code below to find your initial jolt values.\n",
    "- Your initial jolt values are correct if they are the input values that correspond to the points where the blue and yellow lines intersect the green line respectively."
   ]
  },
  {
   "cell_type": "code",
   "execution_count": null,
   "metadata": {},
   "outputs": [],
   "source": [
    "left_jolt, right_jolt = utils.find_jolt()\n",
    "print('int left_jolt = {};\\nint right_jolt = {};'.format(left_jolt, right_jolt))"
   ]
  },
  {
   "cell_type": "markdown",
   "metadata": {},
   "source": [
    "<a id='part1.4'></a>\n",
    "## 1.4 Open Loop Implementation\n",
    "\n",
    "Now implement the controller on the Launchpad. The sketch **`open_loop.ino`** contains some code that implements the open loop control.\n",
    "\n",
    "- Fill in these values in `CODE BLOCK CON1`:\n",
    "    - desired velocity: `v_star` \n",
    "    - estimated parameters: `theta_left`, `theta_right`, `beta_left`, `beta_right`\n",
    "    - initial jolt values: `left_jolt`, `right_jolt`\n",
    "    \n",
    "    \n",
    "- Additionally, we need to compute the PWM input to the motors in `CODE BLOCK CON2`:\n",
    "    - Complete `driveStraght_left_OL()` and `driveStraight_right_OL()` to compute `left_cur_pwm` and `right_cur_pwm` (the PWM inputs for each wheel required for a desired v_star)\n",
    "    \n",
    "    \n",
    "- Fill out `CODE BLOCK CON0` to calculate the control inputs using the functions from `CODE BLOCK CON2`.\n",
    "- Upload the sketch to your Launchpad.\n",
    "- **Make sure that the car is suspended above the desk.** Your car wheels are going to move in this step.\n",
    "\n",
    "Once you are satisfied that your motors work and your open loop control is implemented, put the car on the ground. Make sure the motor switch is on (and that both your motors are still plugged in) and press the `RST` button on your Launchpad. SIXT33N should move straighter than previously because you have accounted for differences in the two motors. Does it behave how you expect? It's okay if it doesn't drive completely straight at this stage.\n",
    "\n",
    "-----"
   ]
  },
  {
   "cell_type": "markdown",
   "metadata": {},
   "source": [
    "<img width='30px' align='left' src=\"http://inst.eecs.berkeley.edu/~ee16b/sp16/lab_pics/check.png\">\n",
    "\n",
    "# <span style=\"color:green\">CHECKOFF</span>\n",
    "<span style=\"color:green\">**Show your GSI the functioning open-loop control.**</span>\n",
    "## <span style=\"color:red\">**REMEMBER TO SAVE ALL YOUR DATA!!**</span>"
   ]
  }
 ],
 "metadata": {
  "anaconda-cloud": {},
  "kernelspec": {
   "display_name": "Python 3",
   "language": "python",
   "name": "python3"
  },
  "language_info": {
   "codemirror_mode": {
    "name": "ipython",
    "version": 3
   },
   "file_extension": ".py",
   "mimetype": "text/x-python",
   "name": "python",
   "nbconvert_exporter": "python",
   "pygments_lexer": "ipython3",
   "version": "3.7.0"
  }
 },
 "nbformat": 4,
 "nbformat_minor": 1
}
