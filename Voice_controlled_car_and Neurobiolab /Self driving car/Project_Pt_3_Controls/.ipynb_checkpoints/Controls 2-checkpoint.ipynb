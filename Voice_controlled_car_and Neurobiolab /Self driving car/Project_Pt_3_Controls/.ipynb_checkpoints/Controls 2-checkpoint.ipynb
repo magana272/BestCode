{
 "cells": [
  {
   "cell_type": "markdown",
   "metadata": {},
   "source": [
    "# SIXT33N Phase 2: Controls | Part 2: Closed-Loop Control\n",
    "## EE16B: Designing Information Devices and Systems II, Spring 2019"
   ]
  },
  {
   "cell_type": "markdown",
   "metadata": {},
   "source": [
    "## Table of Contents\n",
    "\n",
    "* [Introduction](#intro)\n",
    "* [Part 2.1: Closed Loop Design](#part21)\n",
    "* [Part 2.2: Closed Loop Simulation and k-Value Selection](#part22)\n",
    "* [Part 2.3: Closed Loop Implementation](#part23)\n",
    "* [Part 2.4: k-Value Tuning](#part24)\n",
    "* [Part 2.5: Steady-State Error Correction](#part25)\n"
   ]
  },
  {
   "cell_type": "markdown",
   "metadata": {},
   "source": [
    "<a id='part21'></a>\n",
    "## Closed Loop Design\n",
    "\n",
    "Now that we have an open loop model, we can build a closed loop controller that uses feedback to ensure that both wheels drive at the same velocity. The controller has 2 inputs, namely the desired velocity and the difference between the wheel distances $\\delta[k] = d_L[k] - d_R[k]$.\n",
    "\n",
    "### 1. Please make sure you have read the <a href=\"https://drive.google.com/file/d/18c5G43IyVUqRV_aTmJ-yW_60R_F8aWov/view?usp=sharing\">the note </a> before you begin. You may also find it helpful to read <a href=\"https://inst.eecs.berkeley.edu/~ee16b/fa17/proj/controls-primer.pdf\">this PDF</a> for the derivation of the closed-loop system and its eigenvalue."
   ]
  },
  {
   "cell_type": "markdown",
   "metadata": {},
   "source": [
    "<span style='color:red'>**2. Using the information above, draw a block diagram of both wheels' controllers.**</span> Show this diagram to your GSI before moving on. Keep this somewhere, as you will use it in your report."
   ]
  },
  {
   "cell_type": "markdown",
   "metadata": {},
   "source": [
    "<span style='color:red'>**3. Now derive the closed loop update equation for the differences $\\delta[k]$ corresponding to your controller.**</span> Keep this somewhere, as you will use it in your report."
   ]
  },
  {
   "cell_type": "markdown",
   "metadata": {},
   "source": [
    "Now that we've derived the model, we can begin implementing it. Fill in the two functions below."
   ]
  },
  {
   "cell_type": "code",
   "execution_count": null,
   "metadata": {},
   "outputs": [],
   "source": [
    "import utils\n",
    "import matplotlib.pyplot as plt\n",
    "import numpy as np\n",
    "%matplotlib inline"
   ]
  },
  {
   "cell_type": "code",
   "execution_count": null,
   "metadata": {},
   "outputs": [],
   "source": [
    "# YOUR PARAMETERS HERE\n",
    "theta_left = ...;\n",
    "theta_right = ...;\n",
    "beta_left = ...;\n",
    "beta_right = ...;\n",
    "v_star = ...;\n",
    "\n",
    "simulator = utils.Simulator(theta_left, theta_right, beta_left, beta_right)"
   ]
  },
  {
   "cell_type": "code",
   "execution_count": null,
   "metadata": {
    "scrolled": false
   },
   "outputs": [],
   "source": [
    "# DESIGN YOUR CLOSED-LOOP CONTROL HERE\n",
    "def drive_straight_left_cl(v_star, delta):\n",
    "    \"\"\"Returns the closed loop input 'u' for the left wheel\"\"\"\n",
    "    # YOUR CODE HERE\n",
    "    return ...\n",
    "\n",
    "def drive_straight_right_cl(v_star, delta):\n",
    "    \"\"\"Returns the closed loop input 'u' for the right wheel\"\"\"\n",
    "    # YOUR CODE HERE\n",
    "    return ..."
   ]
  },
  {
   "cell_type": "markdown",
   "metadata": {},
   "source": [
    "<a id='part22'></a>\n",
    "## Closed Loop Simulation and K-Value Selection\n",
    "\n",
    "Next we need to choose values for the control gains so that the $\\delta[k]$ update equation is stable. There should be a range of parameter values that make it stable, so we can tune the gains to get the desired performance.\n",
    "\n",
    "The first plot below shows the car's performance given a model that exactly matches the physical car. In this case, $\\delta$ converges to 0. The second plot shows that under model mismatch, $\\delta$ actually converges to a nonzero value, $\\delta_{ss}$. **Remember the car is still traveling straight in this scenario.** At this value, the turning effect of the terms $-k_L\\delta_{ss}/\\theta_R$ and $k_R\\delta_{ss}/\\theta_R$ in the closed-loop equations cancel out the turning effect of the model error.\n",
    "\n",
    "<span style='color:red'>**Try the 5 different sets of gains below and see the effect of each.**</span>"
   ]
  },
  {
   "cell_type": "code",
   "execution_count": null,
   "metadata": {
    "scrolled": true
   },
   "outputs": [],
   "source": [
    "k_left, k_right = None, None\n",
    "steady_state_error = None\n",
    "\n",
    "# Maps description of k_values to (k_left, k_right)\n",
    "k_values = {\n",
    "    \"marginally stable\": (-0.3, 0.3),\n",
    "    \"stable, corrects error in one step\": (0.5, 0.5),\n",
    "    \"oscillatory, marginally stable\": (1, 1),\n",
    "    \"oscillatory, unstable\": (1.1, 1.1),\n",
    "    \"stable\": (0.2, 0.2),\n",
    "    \"chosen k values\": (..., ...)  # TODO: record your chosen k-values here\n",
    "}\n",
    "\n",
    "for key in k_values:\n",
    "    k_left, k_right = k_values[key]\n",
    "\n",
    "    titles = [\"Closed-loop control with perfect model\",\n",
    "              \"Closed-loop control with model mismatch, kL={}, kR={}\".format(k_left, k_right)]\n",
    "    _, delta = utils.two_sims(titles, simulator, v_star, drive_straight_left_cl, drive_straight_right_cl)\n",
    "\n",
    "    print(\"kL={}, kR={}\".format(k_left, k_right))\n",
    "    print(\"Eigenvalue of system: 1-kL-kR={:.2g}; {}\".format(1-k_left-k_right, key))\n",
    "    plt.show()\n",
    "    steady_state_error = delta[-1]"
   ]
  },
  {
   "cell_type": "markdown",
   "metadata": {
    "collapsed": true
   },
   "source": [
    "<a id='part23'></a>\n",
    "## Closed Loop Implementation\n",
    "\n",
    "Now implement the controller on the Launchpad. The sketch **`closed_loop.ino`** contains some code that implements the closed loop control. \n",
    "\n",
    "- Copy `CODE BLOCK CON1` from **`open_loop.ino`** and add your control gains **`k_left`** and **`k_right`**.\n",
    "- Fill out `CODE BLOCK CON2` with your closed-loop control scheme.\n",
    "- Fill out `CODE BLOCK CON0` in the body of the loop function to calculate the control inputs. Inspect this code to see how the control system is implemented. For now, ignore the term `delta_ss`, as it's currently set to 0.\n",
    "- Upload the sketch to your LaunchPad.\n",
    "    - Make sure that the car is suspended above the desk. Your car wheels are going to move in this step.\n",
    "    - Check that the wheels are moving as you expect them to.\n",
    "    - If you use your hand to put some friction on the wheels, does the feedback correct for it?\n",
    "\n",
    "Once you are satisfied that your motors work and your closed-loop control is implemented, run the car on the ground. If it behaves erroneously (for example the controller oscillates), try different eigenvalues. Our simulations compare our possibly mismatched linear model with a linear approximation of our car. In reality, the car is a nonlinear system.\n",
    "\n",
    "**Note:** It's possible that the car curves *slightly* over long distances, even if it the car thinks it's traveling straight. This can be due to factors such as mechanical differences past the shaft of the motor, including slight variation in wheel size or wheel wobble. We can fix this after we make the car turn.\n",
    "\n",
    "<span style='color:red'>**What are some reasons why the simulation might behave differently from the car? What about the differences between when the car is on the ground versus when it is on the desk?**</span>"
   ]
  },
  {
   "cell_type": "markdown",
   "metadata": {},
   "source": [
    "<a id='part24'></a>\n",
    "## K-Value Tuning\n",
    "\n",
    "How did the car behave? It probably didn't go perfectly straight with the first set of k values that you picked. In order to find the \"right\" k values, we will need to analyze the behavior of our car. Recall in lecture that we learned about how the control values will affect the convergence of a system.\n",
    "\n",
    "\n",
    "![](https://upload.wikimedia.org/wikipedia/commons/c/c0/Change_with_Ki.png)\n",
    "\n",
    "The above plot can be summarized as:\n",
    "- if k is too small, it takes a long time to converge to our desired solution\n",
    "- if k is too big, oscillations happen\n",
    "\n",
    "We can use this information to help guide us to k values that get our car going straight. Check out this youtube playlist if you need some examples of what each case could look like: https://www.youtube.com/playlist?list=PLQ1OVCqw6RUPgCmv8H6y9qbcMBT8lotDt\n",
    "\n",
    "You will likely have to try several sets of k values until you find one that works well with your particular car. If you find yourself having a lot of trouble narrowing in on some, ask your GSI for help!"
   ]
  },
  {
   "cell_type": "markdown",
   "metadata": {},
   "source": [
    "<a id='part25'></a>\n",
    "\n",
    "## Steady State Error Correction\n",
    "\n",
    "Lastly, what if we want the car to travel in (approximately) the same direction as when it starts moving? We can manually add the known steady state error $\\delta_{ss}$ to each calculation of the error $\\delta$. Accounting for the known $\\delta_{ss}$ helps the model better respond to unexpected pertubations affecting $\\delta$ which increases the model's control strength.\n",
    "\n",
    "We now calculate $\\delta[k]=d_L - d_R + \\delta_{ss}$.\n"
   ]
  },
  {
   "cell_type": "code",
   "execution_count": null,
   "metadata": {
    "scrolled": false
   },
   "outputs": [],
   "source": [
    "plt.figure(figsize=(5, 7))\n",
    "plt.subplot(211)\n",
    "# Simulate using steady_state_error\n",
    "d = simulator.simulate(\n",
    "    v_star, drive_straight_left_cl, drive_straight_right_cl, mismatch_error=0.1, offset=steady_state_error)\n",
    "delta = simulator.plot(d)\n",
    "plt.title(\"Closed loop control with model mismatch and\\nsteady state error correction, kL={}, kR={}\"\n",
    "          .format(k_left, k_right))\n",
    "plt.subplot(212)\n",
    "plt.plot(delta, 'r')\n",
    "plt.ylabel('delta')"
   ]
  },
  {
   "cell_type": "markdown",
   "metadata": {},
   "source": [
    "- `closed_loop.ino` collects data as it runs, including $\\delta[k]$.\n",
    "    - Let the car run until it settles to (approximately) straight.\n",
    "    - Switch off the motors and plug the MSP into your computer.\n",
    "    - Close the serial monitor (if it's open), and reopen the serial monitor.\n",
    "- Note the steady-state value $\\delta_{ss}$.\n",
    "    - The first column of the printed data is $\\delta$ over time.\n",
    "    - **If $\\delta$ doesn't reach steady-state, the car is not going straight according to the sensors.**\n",
    "        - It's okay if it isn't exactly constant.\n",
    "        - Just be sure the variation is small in proportion to the average value.\n",
    "\n",
    "## Implementing Steady State Error Correction\n",
    "\n",
    "- Input your value of $\\delta_{ss}$ in `CODE BLOCK CON3` in **`closed_loop.ino`**.\n",
    "- Convince yourself that we need to *add* this value in `CODE BLOCK CON0`.\n",
    "\n",
    "For example, if the car drives straight but turned right from its initial heading, we want the right wheel to farther so it turns back towards the left. Adding a positive number to delta accomplishes this."
   ]
  },
  {
   "cell_type": "markdown",
   "metadata": {},
   "source": [
    "<img width='30px' align='left' src=\"http://inst.eecs.berkeley.edu/~ee16b/sp16/lab_pics/check.png\">\n",
    "\n",
    "## <span style=\"color:green\">CHECKOFF</span>\n",
    " <span style=\"color:green\">**Show your GSI that your car moves in a straight line.** Your GSI will also check your block diagram and k values.</span>"
   ]
  }
 ],
 "metadata": {
  "anaconda-cloud": {},
  "kernelspec": {
   "display_name": "Python 3",
   "language": "python",
   "name": "python3"
  },
  "language_info": {
   "codemirror_mode": {
    "name": "ipython",
    "version": 3
   },
   "file_extension": ".py",
   "mimetype": "text/x-python",
   "name": "python",
   "nbconvert_exporter": "python",
   "pygments_lexer": "ipython3",
   "version": "3.7.0"
  }
 },
 "nbformat": 4,
 "nbformat_minor": 1
}
