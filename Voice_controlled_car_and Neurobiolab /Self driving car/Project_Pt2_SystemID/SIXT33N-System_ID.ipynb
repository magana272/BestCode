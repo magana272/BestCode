{
 "cells": [
  {
   "cell_type": "markdown",
   "metadata": {},
   "source": [
    "# SIXT33N Project\n",
    "## Phase 2: System Identification\n",
    "\n",
    "### EE 16B: Designing Information Devices and Systems II, Fall 2019\n",
    "-----"
   ]
  },
  {
   "cell_type": "markdown",
   "metadata": {},
   "source": [
    "**Name 1**:\n",
    "\n",
    "**Login**: ee16b-\n",
    "\n",
    "\n",
    "**Name 2**:\n",
    "\n",
    "**Login**: ee16b-\n",
    "\n"
   ]
  },
  {
   "cell_type": "markdown",
   "metadata": {},
   "source": [
    "## <span style=\"color:navy\">Table Of Contents</span>\n",
    "-----"
   ]
  },
  {
   "cell_type": "markdown",
   "metadata": {},
   "source": [
    "* ### [Note](https://drive.google.com/file/d/1xzTYA6f5fV9g9JHr5-bfuNb7ilPQIgRr/view?usp=sharing)\n",
    "* [Introduction](#intro)\n",
    "* [Part 1: Installing the Encoders](#part1)\n",
    "* [Part 2: Sensor Verification](#part2)\n",
    "* [Part 3: Changing to Battery](#part3)\n",
    "* [Part 4: Open Loop Data Collection and Parameter Estimation](#part4)\n",
    "* [Part 5: Determining the Operating Point](#part5)\n",
    "* [Part 6: Micboard Verification](#part6)"
   ]
  },
  {
   "cell_type": "markdown",
   "metadata": {},
   "source": [
    "<a id='intro'></a>\n",
    "## <span style=\"color:navy\">Introduction</span>\n",
    "-----"
   ]
  },
  {
   "cell_type": "markdown",
   "metadata": {},
   "source": [
    "Please make sure to read the note before you begin the lab. \n",
    "**Remember to document all design choices you made and explain them in the project report.**"
   ]
  },
  {
   "cell_type": "markdown",
   "metadata": {},
   "source": [
    "<a id='part1'></a>\n",
    "## <span style=\"color:navy\">Part 1: Installing the Encoders</span>\n",
    "-----"
   ]
  },
  {
   "cell_type": "markdown",
   "metadata": {},
   "source": [
    "### Materials: \n",
    "- 2 encoders (aka photointerrupter modules, shown below)\n",
    "- 2 plastic encoder wheels (plastic wheel with lots of rectangular holes)\n",
    "- Launchpad\n",
    "- 8 jumper wires\n",
    "\n",
    "### Tasks: \n",
    "\n",
    "**1. Put the photointerrupter modules in their slots as shown below.**\n",
    "<br/><br/>\n",
    "<center>\n",
    "<img width=\"400px\" src=\"images/proj-car-encoder1.jpg\">\n",
    "</center>\n",
    "\n",
    "**2. Connect the encoders to the Launchpad as follows: **\n",
    "* Use 4 jumper wires per encoder. You should **twist or braid all three wires from the encoder to the breadboard together** - this will help shield the signal wire from external noise sources.\n",
    "* Connect the 'G' (ground) pins to ground on your breadboard.\n",
    "* Connect the 'V' (voltage) pins to the 3.3V rail of your breadboard.\n",
    "* For each of your 'S' (signal) pins: \n",
    "    - Build a voltage divider with reasonably-valued resistors.\n",
    "    - Connect the encoder signal pin to the input of the voltage divider.  \n",
    "* Connect the output (between the two resistors) of the left voltage divider to to Launchpad `P6.1` and the the output(between the two resistors) of the right voltage divider to `P6.2`."
   ]
  },
  {
   "cell_type": "markdown",
   "metadata": {},
   "source": [
    "<a id='part2'></a>\n",
    "\n",
    "## <span style=\"color:navy\">Part 2: Sensor Verification</span>\n",
    "-----"
   ]
  },
  {
   "cell_type": "markdown",
   "metadata": {},
   "source": [
    "\n",
    "### <span style=\"color:navy\">Encoder Verification</span>\n",
    "\n",
    "\n",
    "### Materials:\n",
    "- Launchpad and cable\n",
    "- Car with encoders installed\n",
    "\n",
    "### Tasks: \n",
    "\n",
    "### Materials\n",
    "- Launchpad + USB cable\n",
    "\n",
    "In general, there are two major types of error in sensing the car's trajectory. The first is noise in the sensor signals. The second is from mechanical differences between the two sides of the car.\n",
    "\n",
    "In this section we will test for and fix the first type of noise. The mechanical type primarily affects performance over long distances, so we can compensate for it after implementing closed-loop control.\n",
    "\n",
    "### Tasks: \n",
    "1. Connect one of the ground pins on the launchpad to the ground rail of your breadboard.\n",
    "2. **Connect the left motor's BJT to `P2.0` and the right motor's BJT to `P1.5`.**\n",
    "3. Connect the USB.\n",
    "4. Set your power supply to 9V and 400mA. Connect it to each voltage regulator and the motor switch.\n",
    "5. **If your encoders are powered properly, the LED's on them should blink when you pass something through the encoders.**\n",
    "- Remove the encoder wheels if they are on the car, and upload **`encoder_test_0_ticks.ino`** to the Launchpad.\n",
    "- Open the serial monitor.\n",
    "- **Set the baud rate to `38400`**.\n",
    "- Press reset.\n",
    "- Follow the instructions on the serial monitor.\n",
    "    - **Your car wheels are going to move.** Make sure that the car is suspended above the desk. Don't let your car jump off the bench.\n",
    "    - Switch 1, P2.1 is the bottom left button of the LaunchPad.\n",
    "    - If your encoders are functioning properly, the serial monitor should print \"Success\" after each phase, and display all 0's (or at least no more than a few ticks) for the ticks per phase. Note that if your car is mis-wired, this could be a false negative.\n",
    "11. Attach the encoder disk as shown below.\n",
    "    - Make sure to remove the paper sticker (yes, it does come off) before you attach it. =\n",
    "    - If some of the holes in the encoder were not fully cut out, use the flat end of the screwdriver (it's reversible!) to push the material out.\n",
    "12. Re-run the tests. If your car is connected correctly, **the tests should show several hundred encoder ticks**, ruling out a false negative.\n",
    "\n",
    "<img width=\"400px\" src=\"images/proj-car-encoder2.jpg\">\n",
    "\n",
    "\n"
   ]
  },
  {
   "cell_type": "markdown",
   "metadata": {},
   "source": [
    "<a id='part3'></a>\n",
    "\n",
    "## <span style=\"color:navy\">Part 3: Changing to Battery Power</span>\n",
    "-----"
   ]
  },
  {
   "cell_type": "markdown",
   "metadata": {},
   "source": [
    "### Materials\n",
    "- 2 9V rechargeable batteries + battery leads (knotted)\n",
    "\n",
    "Now we want to use 9V batteries to run the car on the ground. \n",
    "\n",
    "***If you are testing things at the bench, use the benchtop power supply.*** The battery does not contain a lot of energy and the motors take a lot of power. If you leave it running it will only last a little over an hour. If the voltage of the battery drops below 7.8V, ask for a new one from your GSI.\n",
    "\n",
    "### Tasks:\n",
    "1. Take the power supply off the motor drivers.\n",
    "  - **Never leave both the power supply and the battery connected at the same time. Don't do it.** Try to minimize the time they are both connected when switching power before transferring data. If you leave both connected for too long, the computer will not recognize your Launchpad due to power overload at the COM port. \n",
    "2. Connect one battery to the switch and the other to the voltage regulators.\n",
    "   - The grounds of the 9V battery leads should go to the ground rail of the circuit.\n",
    "3. Knot your battery leads as shown in the image below.\n",
    "    - This will drastically decrease the chance that the leads will accidentally short and kill your battery.\n",
    "\n",
    "<img width=\"200px\" src=\"images/proj-batt-lead.jpg\">\n",
    "\n",
    "**4. Use your multimeter again to check that the output of your regulator is still 5V and nothing was shorted.</span>**\n",
    "\n",
    "<span style=\"color:red\"> 5. Up till now, the MSP has been powered through the computer via the USB. Disconnect the usb cable that's powering the MSP. To power it through the battery, connect the 5V pin on the MSP to the 5V row on your breadboard.</span>\n",
    "\n",
    "<span style=\"color:red\">6.  **Never** simultaneously power the MSP with both the computer (USB) and the 5V through your breadboard. </span>\n",
    "\n",
    "### Summary:\n",
    "\n",
    "At any point, your car should be powered with either of the following two configurations:\n",
    "\n",
    "1. Tethered Configuration: When uploading launchpad code or downloading data to the computer: \n",
    "\n",
    "<img width=\"700px\" src=\"images/PowerDiagram2.png\">\n",
    "\n",
    "2. Mobile configuration: When running the car away from the computer: \n",
    "\n",
    "<img width=\"700px\" src=\"images/PowerDiagram1.png\">\n",
    "\n"
   ]
  },
  {
   "cell_type": "markdown",
   "metadata": {},
   "source": [
    "<a id='part4'></a>\n",
    "## <span style=\"color:navy\">Part 4: Open Loop Data Collection and Parameter Estimation</span>\n",
    "-----"
   ]
  },
  {
   "cell_type": "markdown",
   "metadata": {},
   "source": [
    "Now, you will collect the data by uploading the sketch **`dynamics_data.ino`**. Glance through the sketch - it records the position of each wheel while varying the input signal $u[k]$ linearly from HIGH_PWM to LOW_PWM and back up. The sampling period is $T_s = 500\\mathrm{ms}$. A long sampling period is used to minimize error due to quantization, the rounding error from measuring only integer encoder ticks.\n",
    "\n",
    "**Important: For this first test, make sure that you are using the first set of 5 parameters in code block `SID1`** (abbreviated from System ID 1). These parameters will sweep through the whole range of PWM values, from maximum to minimum and back to maximum, while collecting only 1 sample per PWM. This means **the car will stop for a short time in the middle of the test.**\n",
    "\n",
    "### About data collection:\n",
    "1. We will being using **`dynamics_data.ino`** to collect data for our car and read it to the serial monitor.\n",
    "2. Upon being uploaded to the MSP, **`dynamics_data.ino`.** does either one of two things, depending on whether the **`WRITE`.** variable located at the top of the code is **`1`.** or **`0`.**. \n",
    "    - If **`WRITE == 1`.** - The car upon having the leftmost bottom button pressed will run and collect data, then write it into permanent memory, which will survive between resets and power supply removal. The collected data will be overwritten if data collection is run again.\n",
    "    - If **`WRITE == 0`.** - The car upon having its leftmost bottom button pressed will read data collected from its last run onto the Serial Monitor\n",
    "\n",
    "Here are somethings to keep in mind:\n",
    "\n",
    "In general: \n",
    "\n",
    "- The leftmost button is unresponsive at times, so you may have to press it multiple times. You will know you have succeeded in making the MSP bend to your will if the LEDs blink.\n",
    "- If things are still unresponsive, press the reset button.\n",
    "- Don't connect both 5V from the voltage regulator and the USB from the computer to the MSP at the same time. This tends to fry the launchpad.\n",
    "\n",
    "If running the car and collecting data:\n",
    "\n",
    "- Remember if that the MSP needs power from 5 volts if not connected to the Computer\n",
    "- Look for a large space to run your car \n",
    "- Your car will probably not go straight \n",
    "\n",
    "If reading the data from the MSP:\n",
    "\n",
    "- The data is printed in lines as comma separated 3-tuples. \n",
    "- Copy and paste, ONLY these 3-tuples, nothing else.\n",
    "\n",
    "### 5.1. Tasks:\n",
    "\n",
    "Once you've copied data from the serial monitor, paste it into a text file called **`data_coarse.txt`.**\n",
    "The example plot below shows an example of extreme differences between the two wheels. \n",
    "\n",
    "<img width=\"400px\" src=\"images/example_coarse_data.png\">"
   ]
  },
  {
   "cell_type": "code",
   "execution_count": 5,
   "metadata": {},
   "outputs": [],
   "source": [
    "import numpy as np\n",
    "import matplotlib.pyplot as plt\n",
    "%matplotlib inline"
   ]
  },
  {
   "cell_type": "code",
   "execution_count": 6,
   "metadata": {},
   "outputs": [
    {
     "data": {
      "image/png": "[encoded data removed]",
      "text/plain": [
       "<Figure size 432x288 with 1 Axes>"
      ]
     },
     "metadata": {
      "needs_background": "light"
     },
     "output_type": "display_data"
    }
   ],
   "source": [
    "with open('data_coarse.txt', 'r') as file:\n",
    "    data = np.array([[int(num) for num in line.strip().split(',')] for line in file.readlines()])\n",
    "\n",
    "# compute velocity from distances\n",
    "vleft  = data[:, 1]\n",
    "vright = data[:, 2]\n",
    "\n",
    "\n",
    "u = data[:, 0].reshape((-1, 1)) # duty cycle\n",
    "left_des, left_asc = np.array_split(vleft, 2)\n",
    "\n",
    "right_des, right_asc = np.array_split(vright, 2)\n",
    "\n",
    "u_des, u_asc = np.array_split(u, 2)\n",
    "\n",
    "plt.plot(u_des, left_des, 'b-',  u_des, right_des, 'y-')\n",
    "plt.plot(u_asc, left_asc, 'b-o',  u_asc, right_asc, 'y-^')\n",
    "plt.xlabel(\"u (input via PWM)\")\n",
    "plt.ylabel(\"Velocity of Wheels\")\n",
    "labels = (\"left (descending)\", \"right (descending)\",\n",
    "          \"left (ascending)\" , \"right (ascending)\")\n",
    "plt.legend(labels, loc=0)\n",
    "plt.show()"
   ]
  },
  {
   "cell_type": "markdown",
   "metadata": {},
   "source": [
    "Now we'll collect data appropriate for least-squares to find a linear approximation for the behavior of your motors. In normal operation, the car only has to run within a small range of velocities, so we collect more samples at each PWM, over a smaller PWM range. \n",
    "\n",
    "### 5.2. Tasks:\n",
    "1. **Comment out the first set of 5 parameters and uncomment the second set in code block `SID1`.**\n",
    "2. **Set *LOW_PWM* and *HIGH_PWM*** so that the chosen PWM range is (more or less) linear on your coarse plot from the previous step.\n",
    "3. If your car makes *very* tight circles (ie: radius less than 1 ft), talk to your GSI!\n",
    "4. **Copy the numerical data between two \"Start\" lines to a text file called `data_fine.txt`**, like you did for `data_coarse`.\n",
    "5. Perform least-squares regression on your data as outlined in the sections below entitled **Least-Squares Regression** and **Evaluate Your Fit**."
   ]
  },
  {
   "cell_type": "code",
   "execution_count": 7,
   "metadata": {},
   "outputs": [
    {
     "data": {
      "image/png": "[encoded data removed]",
      "text/plain": [
       "<Figure size 432x288 with 1 Axes>"
      ]
     },
     "metadata": {
      "needs_background": "light"
     },
     "output_type": "display_data"
    }
   ],
   "source": [
    "with open('data_fine.txt', 'r') as file:\n",
    "    data = np.array([[int(num) for num in line.strip().split(',')] for line in file.readlines()])\n",
    "    \n",
    "# compute velocity from distances\n",
    "vleft  = data[:, 1]\n",
    "vright = data[:, 2]\n",
    "\n",
    "u = data[:, 0].reshape((-1, 1)) # duty cycle\n",
    "\n",
    "plt.plot(u, vleft, 'bo',  u, vright, 'yo')\n",
    "plt.xlabel(\"u (input via PWM)\")\n",
    "plt.ylabel(\"Velocity of Wheels\")\n",
    "plt.legend((\"left\", \"right\"), loc=0)\n",
    "plt.show()"
   ]
  },
  {
   "cell_type": "markdown",
   "metadata": {},
   "source": [
    "### 5.2.1. Least-Squares Regression\n",
    "Now that we have some data, we can try performing least-squares regression.\n",
    "\n",
    "\n",
    "1. Write a function that takes the data as parameters, performs least squares, and extracts the parameters. The function `np.linalg.lstsq` will be helpful here.\n",
    "2. Call the function once for each wheel.\n",
    "3. Record the values of $\\theta$ and $\\beta$ for each wheel."
   ]
  },
  {
   "cell_type": "code",
   "execution_count": 11,
   "metadata": {},
   "outputs": [],
   "source": [
    "# YOUR CODE HERE\n",
    "# Write a function that formulates and performs least squares\n",
    "# and returns theta and beta for one wheel\n",
    "def identify_parameters(u, v):\n",
    "    # Returns (theta, beta) for given (u, v)\n",
    "    #return pass\n",
    "\n",
    "# extract parameters, call your function here\n",
    "    theta_left, beta_left = identify_parameters(u, vleft) # 0, 0\n",
    "    theta_right, beta_right = identify_parameters(u, vright) # 0, 0\n",
    "\n",
    "    print(\"float theta_left = {:.4g};\".format(theta_left))\n",
    "    print(\"float theta_right = {:.4g};\".format(theta_right))\n",
    "    print(\"float beta_left = {:.4g};\".format(beta_left))\n",
    "    print(\"float beta_right = {:.4g};\".format(beta_right))"
   ]
  },
  {
   "cell_type": "code",
   "execution_count": 12,
   "metadata": {
    "scrolled": true
   },
   "outputs": [
    {
     "ename": "NameError",
     "evalue": "name 'theta_left' is not defined",
     "output_type": "error",
     "traceback": [
      "\u001b[0;31m---------------------------------------------------------------------------\u001b[0m",
      "\u001b[0;31mNameError\u001b[0m                                 Traceback (most recent call last)",
      "\u001b[0;32m<ipython-input-12-90f9fbb905ce>\u001b[0m in \u001b[0;36m<module>\u001b[0;34m\u001b[0m\n\u001b[1;32m      1\u001b[0m \u001b[0;31m# plot results of least squares fit\u001b[0m\u001b[0;34m\u001b[0m\u001b[0;34m\u001b[0m\u001b[0;34m\u001b[0m\u001b[0m\n\u001b[1;32m      2\u001b[0m \u001b[0mu\u001b[0m \u001b[0;34m=\u001b[0m \u001b[0mu\u001b[0m\u001b[0;34m.\u001b[0m\u001b[0mreshape\u001b[0m\u001b[0;34m(\u001b[0m\u001b[0;34m-\u001b[0m\u001b[0;36m1\u001b[0m\u001b[0;34m)\u001b[0m\u001b[0;34m\u001b[0m\u001b[0;34m\u001b[0m\u001b[0m\n\u001b[0;32m----> 3\u001b[0;31m \u001b[0mvleft_LS\u001b[0m \u001b[0;34m=\u001b[0m \u001b[0mtheta_left\u001b[0m\u001b[0;34m*\u001b[0m\u001b[0mu\u001b[0m\u001b[0;34m-\u001b[0m\u001b[0mbeta_left\u001b[0m\u001b[0;34m\u001b[0m\u001b[0;34m\u001b[0m\u001b[0m\n\u001b[0m\u001b[1;32m      4\u001b[0m \u001b[0mvright_LS\u001b[0m \u001b[0;34m=\u001b[0m \u001b[0mtheta_right\u001b[0m\u001b[0;34m*\u001b[0m\u001b[0mu\u001b[0m\u001b[0;34m-\u001b[0m\u001b[0mbeta_right\u001b[0m\u001b[0;34m\u001b[0m\u001b[0;34m\u001b[0m\u001b[0m\n\u001b[1;32m      5\u001b[0m \u001b[0mplt\u001b[0m\u001b[0;34m.\u001b[0m\u001b[0mplot\u001b[0m\u001b[0;34m(\u001b[0m\u001b[0mu\u001b[0m\u001b[0;34m,\u001b[0m \u001b[0mvleft\u001b[0m\u001b[0;34m,\u001b[0m \u001b[0;34m'bo'\u001b[0m\u001b[0;34m,\u001b[0m  \u001b[0mu\u001b[0m\u001b[0;34m,\u001b[0m \u001b[0mvright\u001b[0m\u001b[0;34m,\u001b[0m \u001b[0;34m'yo'\u001b[0m\u001b[0;34m,\u001b[0m \u001b[0mu\u001b[0m\u001b[0;34m,\u001b[0m \u001b[0mvleft_LS\u001b[0m\u001b[0;34m,\u001b[0m \u001b[0;34m'b-'\u001b[0m\u001b[0;34m,\u001b[0m \u001b[0mu\u001b[0m\u001b[0;34m,\u001b[0m \u001b[0mvright_LS\u001b[0m\u001b[0;34m,\u001b[0m \u001b[0;34m'y-'\u001b[0m\u001b[0;34m)\u001b[0m\u001b[0;34m\u001b[0m\u001b[0;34m\u001b[0m\u001b[0m\n",
      "\u001b[0;31mNameError\u001b[0m: name 'theta_left' is not defined"
     ]
    }
   ],
   "source": [
    "# plot results of least squares fit \n",
    "u = u.reshape(-1)\n",
    "vleft_LS = theta_left*u-beta_left\n",
    "vright_LS = theta_right*u-beta_right\n",
    "plt.plot(u, vleft, 'bo',  u, vright, 'yo', u, vleft_LS, 'b-', u, vright_LS, 'y-')\n",
    "plt.xlabel(\"u (input via PWM)\")\n",
    "plt.ylabel(\"Velocity of Wheels\")\n",
    "plt.legend((\"left\", \"right\"), loc=0)"
   ]
  },
  {
   "cell_type": "markdown",
   "metadata": {},
   "source": [
    "### 5.2.2. Evaluate Your Fit\n",
    "\n",
    "1. **Inspect the linearity of this plot and the coarse data plot.**\n",
    "2. **If you think a different range of PWM may be more linear, change HIGH_PWM and LOW_PWM in the .ino file.**\n",
    "    - Be careful so your car does not run too close to the minimum or maximum PWM (0 and 255).\n",
    "    - If our control scheme saturates (e.g. maxes at 255) an input, the car is much harder to control.\n",
    "3. Run the simulation below."
   ]
  },
  {
   "cell_type": "markdown",
   "metadata": {},
   "source": [
    "To test that we have estimated the parameters accurately, we will simulate the model using the parameters we have found. When we compare the simulated data with the collected data, we expect them to match up pretty well. "
   ]
  },
  {
   "cell_type": "code",
   "execution_count": 6,
   "metadata": {},
   "outputs": [
    {
     "data": {
      "text/plain": [
       "<matplotlib.legend.Legend at 0x287d8062518>"
      ]
     },
     "execution_count": 6,
     "metadata": {},
     "output_type": "execute_result"
    },
    {
     "data": {
      "image/png": "[encoded data removed]",
      "text/plain": [
       "<matplotlib.figure.Figure at 0x287d6f9b048>"
      ]
     },
     "metadata": {},
     "output_type": "display_data"
    }
   ],
   "source": [
    "# model for simulation \n",
    "def sim(d0, u, theta, beta):\n",
    "    d = np.zeros(len(u)+1)\n",
    "    d[0] = d0\n",
    "    for t in range(len(u)):\n",
    "        d[t+1] = d[t] + theta*u[t] - beta\n",
    "    return d\n",
    "def get_distances_from_velocities(v):\n",
    "    d = np.zeros(len(u) + 1)\n",
    "    d[0] = 0\n",
    "    for t in range(len(u)):\n",
    "        d[t+1] = d[t] + v[t] \n",
    "    return d\n",
    "        \n",
    "# plot simulated trajectories \n",
    "\n",
    "dleft = get_distances_from_velocities(vleft)\n",
    "dright = get_distances_from_velocities(vright)\n",
    "\n",
    "dleft_simulated  = sim(0, u, theta_left, beta_left)\n",
    "dright_simulated = sim(0, u, theta_right, beta_right)\n",
    "plt.plot(dleft, 'b.', \n",
    "         dright, 'y.',\n",
    "         dleft_simulated, 'b-', \n",
    "         dright_simulated, 'y-',\n",
    "        )\n",
    "plt.xlabel(\"time\")\n",
    "plt.ylabel(\"distance\")\n",
    "plt.legend((\"left (data)\", \"right (data)\", \"left (fit)\", \"right (fit)\"), loc='upper left')"
   ]
  },
  {
   "cell_type": "markdown",
   "metadata": {},
   "source": [
    "<a id='part5'></a>\n",
    "## <span style=\"color:navy\">Part 5: Determining the Operating Point</span>\n",
    "-----"
   ]
  },
  {
   "cell_type": "markdown",
   "metadata": {},
   "source": [
    "**Make sure you read the linear least squares section of the note before beginning this section!**\n",
    "\n",
    "In general, each wheel may have a different range of velocities, illustrated here.\n",
    "\n",
    "\n",
    "<img src=\"./images/partial_overlap_lsq.png\">\n"
   ]
  },
  {
   "cell_type": "markdown",
   "metadata": {},
   "source": [
    "In order for the car to drive straight, the wheels must be moving at the same velocity. However, the motors (and hence the wheels) have different achievable velocity ranges, so we need to set the operating point to a velocity achievable by both wheels. A good choice of target velocity is the midpoint of the overlapping range of velocity. The below cell will calculate this."
   ]
  },
  {
   "cell_type": "code",
   "execution_count": 28,
   "metadata": {},
   "outputs": [
    {
     "name": "stdout",
     "output_type": "stream",
     "text": [
      "Velocity range = [-1.7, 36.9]\n",
      "\n",
      "Operating point:\n",
      "float v_star = 17.6;\n"
     ]
    },
    {
     "data": {
      "text/plain": [
       "<matplotlib.legend.Legend at 0x112b5a438>"
      ]
     },
     "execution_count": 28,
     "metadata": {},
     "output_type": "execute_result"
    },
    {
     "data": {
      "image/png": "[encoded data removed]",
      "text/plain": [
       "<matplotlib.figure.Figure at 0x10ee74518>"
      ]
     },
     "metadata": {},
     "output_type": "display_data"
    }
   ],
   "source": [
    "min_vel = max(min(vleft_LS), min(vright_LS))\n",
    "max_vel = min(max(vleft_LS), max(vright_LS))\n",
    "print('Velocity range = [{:0.1f}, {:0.1f}]'.format(min_vel, max_vel))\n",
    "midpoint = (min_vel+max_vel)/2\n",
    "print('\\nOperating point:\\nfloat v_star = {:.1f};'.format(midpoint))\n",
    "\n",
    "u = u.reshape(-1)\n",
    "vleft_LS = theta_left*u-beta_left\n",
    "vright_LS = theta_right*u-beta_right\n",
    "plt.plot(u, vleft_LS, 'b-', u, vright_LS, 'y-')\n",
    "for i in (min_vel, max_vel):\n",
    "    plt.plot(u, 0*u + i, 'g-')\n",
    "plt.plot(u, vleft, 'bo',  u, vright, 'yo')\n",
    "plt.xlabel(\"u (input via PWM)\")\n",
    "plt.ylabel(\"Velocity of Wheels\")\n",
    "plt.legend((\"left\", \"right\", \"overlap\"), loc=0)"
   ]
  },
  {
   "cell_type": "markdown",
   "metadata": {},
   "source": [
    "<a id='part6'></a>\n",
    "## <span style=\"color:navy\">Part 6: Micboard Verification (optional)</span>\n",
    "-----\n",
    "\n",
    "We will be using the micboard again in about 2 weeks. It is good to verify that the launchpad can read the voice signal from your front-end circuit. \n",
    "\n",
    "### Materials:\n",
    "- Car\n",
    "- Launchpad + USB cable\n",
    "\n",
    "### Tasks:\n",
    "1. Upload <b>`adc_read.ino`</b> to the Launchpad.\n",
    "2. Connect pin `6.0` to the output of your microphone front-end circuit.\n",
    "3. Connect the ground of the Launchpad to the ground of your circuit.\n",
    "4. **Press the reset button on your Launchpad.**\n",
    "5. From the command line, run **`python adc_read.py -D COM###`** (substitute `###` with the proper number from Device Manager).\n",
    "\n",
    "If you see a graph on your screen with a signal that changes when you make noises at your microphone and is centered in the middle of the graph, then you have succeeded! Congratulations!\n",
    "\n",
    "If this step fails, make sure that you make it work before the SVD/PCA lab in 2 weeks. You won't be able to do that lab without going through this step!"
   ]
  },
  {
   "cell_type": "markdown",
   "metadata": {},
   "source": [
    "## <span style=\"color:#ba190f\">CHECKOFF</span>\n",
    "-----\n",
    "- **Show your GSI your data collection and parameters.** Your GSI will double check your parameters.\n",
    " \n",
    " ## <span style=\"color:red\">SAVE ALL YOUR DATA!!</span>\n",
    " - ** Data stored on the lab computers often gets deleted automatically. Please store it on your personal flash drive  or cloud storage, and not on the lab computers!**"
   ]
  },
  {
   "cell_type": "code",
   "execution_count": null,
   "metadata": {
    "collapsed": true
   },
   "outputs": [],
   "source": []
  }
 ],
 "metadata": {
  "anaconda-cloud": {},
  "kernelspec": {
   "display_name": "Python 3",
   "language": "python",
   "name": "python3"
  },
  "language_info": {
   "codemirror_mode": {
    "name": "ipython",
    "version": 3
   },
   "file_extension": ".py",
   "mimetype": "text/x-python",
   "name": "python",
   "nbconvert_exporter": "python",
   "pygments_lexer": "ipython3",
   "version": "3.7.4"
  }
 },
 "nbformat": 4,
 "nbformat_minor": 1
}
