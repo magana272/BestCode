{
 "cells": [
  {
   "cell_type": "markdown",
   "metadata": {},
   "source": [
    "# SIXT33N Project\n",
    "## Phase 1: Microphone Front End\n",
    "\n",
    "### EE 16B: Designing Information Devices and Systems II, Fall 2018\n",
    "\n",
    "Written by Nathaniel Mailoa and Emily Naviasky (2016).\n",
    "\n",
    "Updated by Peter Schafhalter and Zain Zaidi (sp2019).\n",
    "\n",
    "Updated by Mia Mirkovic (fa2019).\n",
    "\n",
    "nmailoa@berkeley.edu &emsp; enaviasky@berkeley.edu &emsp; pschafhalter@berkeley.edu &emsp; zzaidi@berkeley.edu &emsp; miamirkovic@berkeley.edu\n",
    "\n",
    "-----"
   ]
  },
  {
   "cell_type": "markdown",
   "metadata": {},
   "source": [
    "## <span style=\"color:navy\">Table of Contents</span>\n"
   ]
  },
  {
   "cell_type": "markdown",
   "metadata": {},
   "source": [
    "\n",
    "* ## <a href=\"https://drive.google.com/file/d/1chIPD-A_A8X-Xd08YKQVv4waJgPzpZbB/view?usp=sharing\">Note</a>\n",
    "* [Part 1: Circuit Layout and Power](#part1)\n",
    "* [Part 2: Microphone Biasing Circuit](#part2)\n",
    "* [Part 3: Filtering Front-End Circuit](#part3)\n",
    "* [Part 4: Tuning the Microphone's Gain](#part4)\n",
    "* [Part 5: Motor Driver Circuits](#part5)\n"
   ]
  },
  {
   "cell_type": "markdown",
   "metadata": {},
   "source": [
    "<a id='part1'></a>\n",
    "## <span style=\"color:navy\">Part 1: Power Circuits and Breadboard Layout</span>\n",
    "-----"
   ]
  },
  {
   "cell_type": "markdown",
   "metadata": {},
   "source": [
    "\n",
    "Our circuit will need two sources of power: \n",
    "1. **5V (Launchpad, micboard)**\n",
    "2. **3.3V (breadboard signals)**\n",
    "\n",
    "**There is no negative voltage source.**\n",
    "\n",
    "Divide your breadboard into the following sections so that you have room for them all.\n",
    "- Use both of your (+) rails for 3.3V because most of the circuit will use 3.3V.\n",
    "- Use a row close to your mic board as your 5V rail.  Today, only the mic board uses the 5V supply.\n",
    "- Connect the two (-)rails  to create your ground rail.\n",
    "- The purple section is where you will build your front end.\n",
    "- The blue sections are where you will build your motor driver circuits.\n",
    "\n",
    "<img style=\"width:700px\" src=\"images/circuit_outline_diagram_v2_with_voltage_reg_single_cap.png\">\n",
    "\n",
    "**KEEP YOUR CIRCUIT NEAT!** That goes without saying :)\n",
    "\n",
    "### <span style=\"color:navy\">Power Supply</span>\n",
    "\n",
    "**In the future:** SIXT33N will run on a 9V battery when it is running around. \n",
    "\n",
    "**For today:** Power your voltage regulators with 9V from the bench power supply.\n",
    "\n",
    "- Note that you do not have a -5V rail, nor a -3.3V\n",
    "- Connect both power supplies' grounds on your breadboard\n",
    "- **Limit the current from your supply to 100mA (0.1 amperes)**\n",
    "\n",
    "### <span style=\"color:navy\">Voltage Regulators</span>\n",
    "\n",
    "The Launchpad and the front end circuit need a 5V source, so we need a voltage regulator. The <a href=\"http://www.mouser.com/ds/2/308/LM7805-1124977.pdf\">LM7805</a> is a voltage regulator that takes 9V and outputs 5V. \n",
    "\n",
    "|Pinout:|Component sketch:|\n",
    "|:-----:|:---------------:|\n",
    "|<img width=\"400px\" src=\"images/5vreg-po.png\">|<img width=\"400px\" src=\"images/lmp.png\">|\n",
    "\n",
    "\n",
    "\n",
    "We will also need a 3.3V voltage source for the majority of the circuit. The <a href=\"https://www.mouser.com/datasheet/2/389/ld1117-974075.pdf\">LD1117</a> is a voltage regulator that takes 9V and outputs 3.3V.\n",
    "\n",
    "|Pinout:|Component sketch:|\n",
    "|:-----:|:---------------:|\n",
    "|<img width=\"400px\" src=\"images/33vreg-po.png\">|<img width=\"400px\" src=\"images/33vreg-sketch.png\">|\n",
    "\n",
    "-----\n",
    "\n",
    "### Materials:\n",
    "- Power supply + cables\n",
    "- Multimeter + cables\n",
    "- 1 LM7805 (9V-5V) voltage regulator\n",
    "- 1 LD1117 (9V-3.3V) voltage regulator\n",
    "- 2 1$\\mu$F capacitors\n",
    "- 2 10$\\mu$F capacitors\n",
    "- 1 100nF capacitor\n",
    "\n",
    "### Tasks: \n",
    "1. **Build the following circuit with the 5V regulator in the voltage regulator block of your breadboard.**\n",
    "<center>\n",
    "<img width=\"500px\" src=\"images/voltage_reg.png\">\n",
    "</center>\n",
    "\n",
    "2. **Build the following circuit with the 3.3V regulator in the voltage regulator block of your breadboard.**\n",
    "<center>\n",
    "<img width=\"500px\" src=\"images/33vreg-ckt.png\">\n",
    "</center>\n",
    "\n",
    "3. **For now, connect $V_{\\text{in}}$ of both regulator circuits to 9V from the power supply.** \n",
    "\n",
    "4. **<span style=\"color:red\">Use your multimeter to check that the output of your regulator is 5V.</span>** \n",
    "5. **Add a decoupling capacitor (10 uF, code 106) between your 3.3 V rail and ground.** We are going to be working with some small signals, so we want to minimize any possible sources of noise, and the power rails can be a large source of noise. Decoupling capacitors will reduce fluctuations on your rails (which can occur for example when the voltage source must supply a large amount of current across wires which actually have non-zero resistance and inductance) .  (https://en.wikipedia.org/wiki/Decoupling_capacitor) You should use them in every circuit you build <i>in the future for the rest of your life</i>."
   ]
  },
  {
   "cell_type": "markdown",
   "metadata": {},
   "source": [
    "<a id='part2'></a>\n",
    "## <span style=\"color:navy\">Part 2: Microphone Biasing Circuit</span>\n",
    "-----\n",
    "\n",
    "### <a href=\"https://drive.google.com/file/d/1chIPD-A_A8X-Xd08YKQVv4waJgPzpZbB/view?usp=sharing\">Read Part 2 of the note before you begin this part!</a>\n",
    "\n",
    "### Materials:\n",
    "- 10k Resistors (x2)\n",
    "- 100k Resistor\n",
    "- Op-amps\n",
    "- Mic Board\n",
    "\n",
    "We will build circuits which provide signals for the OS1 (DC Offset) and OS2 (Level shift) pins."
   ]
  },
  {
   "cell_type": "markdown",
   "metadata": {},
   "source": [
    "### Tasks:\n",
    "\n",
    "- Build the circuit shown below.\n",
    "- Use 0 and +3.3V as the power supplies for these op-amps.\n",
    "- Connect your mic board as follows:\n",
    "    - VDD: 5 V from voltage regulator\n",
    "    - VSS: ground\n",
    "    - OS1 and OS2 to the biasing circuit we just built.\n",
    "\n",
    "\n",
    "**The figure below shows the biasing circuit that we will need to build.** \n",
    "\n",
    "<img style=\"width:800px\" src=\"images/BiasCircuit_V2.png\">"
   ]
  },
  {
   "cell_type": "markdown",
   "metadata": {},
   "source": [
    "<a id='part3'></a>\n",
    "## <span style=\"color:navy\">Part 3: Filtering Front-End Circuit</span>\n",
    "-----\n",
    "\n",
    "### Materials\n",
    "- Op-amps\n",
    "- Resistors\n",
    "- Capacitors\n",
    "- 1 Micboard + biasing circuit\n",
    "- Power supply + cables\n",
    "- Oscilloscope + probe"
   ]
  },
  {
   "cell_type": "markdown",
   "metadata": {},
   "source": [
    "Recall from the previous week's lab that the frequency range for the human voice is about 180-20000Hz (female voice: 300 Hz-17kHz; male voice: 150Hz-8kHz), but most speech falls between **250Hz** and **2500Hz**. In order to minimize noise, we want to only collect data inside this frequency range. So, we'll build a highpass filter, like we did in the color organ lab, to filter out the DC, 60 Hz and low frequency noise. \n",
    "\n",
    "### Tasks\n",
    "**1. Calculate appropriate capacitor and resistor values for your highpass filter in the cell below.**\n"
   ]
  },
  {
   "cell_type": "code",
   "execution_count": 1,
   "metadata": {
    "collapsed": true
   },
   "outputs": [],
   "source": [
    "import  math"
   ]
  },
  {
   "cell_type": "code",
   "execution_count": 2,
   "metadata": {
    "collapsed": false
   },
   "outputs": [
    {
     "name": "stdout",
     "output_type": "stream",
     "text": [
      "High-pass filter:\n",
      "=================\n",
      "Resistor: 1000.0 ohms\n",
      "Capacitor: 1e-06 farads\n",
      "Cutoff frequency: 159.15494309189535 Hz\n"
     ]
    }
   ],
   "source": [
    "### YOUR CODE HERE\n",
    "\n",
    "\n",
    "R_high_pass = 1e3\n",
    "C_high_pass = 1e-6\n",
    "f_cutoff_high_pass = 1 / (2 * math.pi * R_high_pass * C_high_pass)\n",
    "\n",
    "\n",
    "\n",
    "print(\"High-pass filter:\")\n",
    "print(\"=================\")\n",
    "print(\"Resistor: {} ohms\".format(R_high_pass))\n",
    "print(\"Capacitor: {} farads\".format(C_high_pass))\n",
    "print(\"Cutoff frequency: {} Hz\".format(f_cutoff_high_pass))"
   ]
  },
  {
   "cell_type": "markdown",
   "metadata": {},
   "source": [
    "**2. Build the highpass filter below in the \"Front End Circuit\" section of your breadboard.**\n",
    "<center><img width='800px' src=\"./images/Highpass.png\"></center>\n",
    "- The buffer at the output with rails of 0V and 3.3V prevents damage to your LaunchPad.\n",
    "- The high-pass filter is connected to OS2 to keep the signal centered at 1.65V.\n",
    "  - If it were connected to ground, the high-pass filter would remove the 1.65V offset.\n",
    "- Use the micboard output as the input to your highpass filter.\n",
    "\n",
    "**3. Once you have built the circuit, check that:**\n",
    "- The DC offset at each node is what you expect.\n",
    "- The gain of each amplifier is what you expect.\n",
    "- The frequency response of your circuit is correct:\n",
    "    - Use the function generator to apply a specific input frequency with an offset of $1.65\\mathrm{V}$ (instead of $\\mathrm{V_{mic out}}$)\n",
    "    - Watch the output of your signal on your oscilloscope and change the frequency from low to high.\n",
    "    - Check that the amplitude of the output at the cutoff frequency is attenuated as expected.\n",
    "        - $\\mathrm{V_{out}}$ should be close to $\\frac{\\mathrm{V_{in}}}{\\sqrt{2}}$ at the cutoff frequencies.\n",
    "\n",
    "\n",
    "\n",
    "\n",
    "**<span style=\"color:red\">Record your choice of R and C for the project report!</span>**"
   ]
  },
  {
   "cell_type": "markdown",
   "metadata": {},
   "source": [
    "<a id='part4'></a>\n",
    "## <span style=\"color:navy\">Part 4: Tuning the Microphone's Gain</span>\n",
    "-----\n",
    "\n",
    "### Materials:\n",
    "- Oscilloscope + probe\n",
    "\n",
    "When you first hook everything up, you might not get anything reasonable - this is totally okay! Tuning the microphone gain is critical to getting it to work correctly. **Please do not spend too much time on this part. Follow the instructions carefully and stop tuning once you see a reasonable voice signal centered around your desired offset voltage.**\n",
    "\n",
    "### Tuning Instructions:\n",
    "\n",
    "#### Setup:\n",
    "1. Start by making sure your micboard is set up according to the instructions in Part 2.\n",
    "3. Connect an oscilloscope cable to the output of the micboard.\n",
    "4. Display a peak-to-peak measurement for the current channel on the oscilloscope.\n",
    "    - Press \"Meas\", select \"$V_{p-p}$\", and press \"Add measurement\"\n",
    "5. Display an average measurement for the current channel on the oscilloscope.\n",
    "    - Press \"Meas\", select \"$V_{avg}$\", and press \"Add measurement\"\n",
    "\n",
    "#### Now you are ready to tune your micboard!\n",
    "- In the project, you will be using your *voice*, not tones, with the mic board.\n",
    "- While tuning, talk into the microphone from a comfortable distance (2-3 feet).\n",
    "- This circuit will end up on your car on the ground, and you don't want to have your face on the ground to control it!\n",
    "\n",
    "\n",
    "#### Tuning Overview\n",
    "1. Lower the gain: Turn the potentiometer on your mic board **clockwise**.\n",
    "2. Increase the gain: Turn the gain potentiometer on the mic board **counter-clockwise** until you see a signal with $\\approx2.5\\mathrm{V}_{pp}$ amplitude centered near $1.65\\mathrm{V}$.\n",
    "\n",
    "Congratulations! You have successfully tuned your micboard. \n",
    "\n",
    "\n",
    "#### Note:\n",
    " - The output voltage of the board ranges from $0$ to $3.3\\mathrm{V}$ when the loudest sound is applied.\n",
    " - Test by speaking (loudly) from ~2 feet from the mic board.\n",
    " - We can always adjust this later.\n",
    " \n",
    " \n",
    "**Now, measure the DC voltage at the mic board's output pin using the oscilloscope. (Think: what measurement on the scope should I be looking at?)**\n",
    "\n",
    "\n",
    "**<span style=\"color:#075a04\">What is the DC voltage at the output?</span>**"
   ]
  },
  {
   "cell_type": "markdown",
   "metadata": {},
   "source": [
    "< _YOUR ANSWER HERE_ >"
   ]
  },
  {
   "cell_type": "markdown",
   "metadata": {},
   "source": [
    "<a id='part5'></a>\n",
    "## <span style=\"color:navy\">Part 5: Motor Drivers</span>\n",
    "-----\n",
    "\n",
    "### <a href=\"https://drive.google.com/file/d/1chIPD-A_A8X-Xd08YKQVv4waJgPzpZbB/view?usp=sharing\">Read Part 5 of the note before you begin this part!</a>\n",
    "\n",
    "S1XT33N will require two batteries: one for the 5V and 3.3V circuits, and one for the motors. The $1.5\\mathrm{k}\\Omega$ resistor is used to limit the current to minimize the risk of the BJT burning out.\n",
    "\n",
    "### Materials:\n",
    "- 2 C2690A NPN BJTs (Bipolar Junction Transistor)\n",
    "- 2 IN4001 Diodes\n",
    "- 2 1.5k$\\Omega$ resistors\n",
    "- 1 switch\n",
    "\n",
    "### Tasks:\n",
    "\n",
    " **1. Construct the circuit below for each wheel using the <a href=\"https://www.fairchildsemi.com/datasheets/KS/KSC2690A.pdf\">C2690A</a> NPN BJT on the breadboard**.\n",
    "\n",
    "<img width=\"250px\" src=\"images/motor-drive-with-switch.jpg\">\n",
    "- **Use a different breadboard row for the 9V for the motors than the 9V for the voltage regulator.**\n",
    "- The motor is reversible so connect it any way for now. If it turns out to go backwards later, just reverse the two terminals of the motor.\n",
    "- The pin diagram of the BJT is reproduced below. Note that the diagram has the markings in the black plastic part facing up. <span style=\"color:red\">**Make sure to match the Base, Emitter, and Collector properly to the schematic.**</span>\n",
    "- <span style=\"color:red\">**Check your kit for diodes and BJTs before getting any from the TA desk.**</span>\n",
    "<img width=\"250px\" src=\"images/proj-bjt.png\">\n",
    "- A <a href=\"https://www.allaboutcircuits.com/textbook/semiconductors/chpt-3/introduction-to-diodes-and-rectifiers/\">diode</a> is a component that only conducts current one way. This diode is needed because of the inductive characteristics of the motor. If the motor is on and we turn it off, the inductive behavior of the motor maintains the current and we need a way to dissipate it. The diagram for the diode is shown below. **Note that the diode has a direction** - be careful which terminal is attached to the 9V power supply.\n",
    "<img width=\"300px\" src=\"images/proj-diode.png\">\n",
    "    \n",
    "    \n",
    "    \n",
    "**2. Add a switch between 9V and the motor drivers.** You only need **ONE** switch!\n",
    "- Place the switch somewhere fairly central (wrt the long side) on your breadboard.\n",
    "- Connect the 9V to one terminal and connect **BOTH** your motor controller circuits' 9V nodes to another. \n",
    "- **Sanity check:** the middle pin of your switch should be connected to something.\n",
    "         \n",
    "         \n",
    "         \n",
    "**3. Remove the 9V power supply from the 5V regulator (if it's connected), and move it to the switch to test the motors, AND set a current limit of 600mA.**\n",
    "- We have limited rechargeable 9V batteries, so use the power supply when working at your lab station for long periods of time.\n",
    "- The motors can each draw 200-300mA.\n",
    "- If your motors draw the maximum current, increase the limit to 800mA.\n",
    "    \n",
    "    \n",
    "**4.  Test the motor drivers. For each motor driver:**\n",
    "- Connect the node of the resistor labeled `MSP430 output pin` in the schematic to the function generator.\n",
    "- Set the function generator to output a **1kHz square wave with 3Vpp, 1.65V offset, 80% duty cycle**.\n",
    "- Changing the duty cycle should control the speed of the wheels.\n",
    "- Remember to **set the output load of the function generator to high Z**.\n",
    "    \n",
    "    \n",
    "**5. **<span style=\"color:red\">**Make sure that both motors drive as expected. They might not go at the same speed - our control scheme will fix that.**</span>\n",
    "\n",
    "**6. Once the motor circuit is verified,** leave the resistor terminals that are supposed to be driven by the Launchpad pins connected to ground. This keeps the motors off."
   ]
  },
  {
   "cell_type": "markdown",
   "metadata": {},
   "source": [
    "# <span style=\"color:#ba190f\">CHECKOFF</span>\n",
    "-----\n",
    "\n",
    "- Show your GSI your working circuit with the microphone. Make sure the voltage ranges, gain and cutoff frequencies are as expected from your design.\n",
    "- Remember what each part of your circuit is for (Record this in a Google doc or somewhere else safe). You will need to write a summary for your final report.\n",
    "- **Back up this document (e.g. to Google Drive). Lab accounts occasionally run out of storage and you might lose this document.**"
   ]
  }
 ],
 "metadata": {
  "anaconda-cloud": {},
  "kernelspec": {
   "display_name": "Python 3",
   "language": "python",
   "name": "python3"
  },
  "language_info": {
   "codemirror_mode": {
    "name": "ipython",
    "version": 3
   },
   "file_extension": ".py",
   "mimetype": "text/x-python",
   "name": "python",
   "nbconvert_exporter": "python",
   "pygments_lexer": "ipython3",
   "version": "3.4.5"
  }
 },
 "nbformat": 4,
 "nbformat_minor": 1
}
